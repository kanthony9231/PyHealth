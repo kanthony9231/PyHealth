{
 "cells": [
  {
   "cell_type": "markdown",
   "metadata": {
    "id": "8IF4fUV8kFBU"
   },
   "source": [
    "# SimpleMIMICCXRDataset for View-Specific X-ray Generation\n",
    "\n",
    "This notebook implements a custom dataset class, SimpleMIMICCXRDataset, based on the PyHealth BaseEHRDataset for the MIMIC-CXR dataset, tailored for a view-specific X-ray generation task. The dataset processes metadata from a CSV file and constructs patient data with image paths for use with UniXGen.\n",
    "\n",
    "### Overview\n",
    "- Purpose: Prepares MIMIC-CXR data for generating X-ray images from one view (e.g., PA) to another (e.g., LL).\n",
    "- Data Source: mimiccxr_train_sub_filtered.csv with columns dicom_id, subject_id, study_id, view, and count.\n",
    "- Output: Structured patient data with image paths for input and target views.\n",
    "\n",
    "### Usage\n",
    "- The dataset can be integrated with UniXGen for training a view-specific X-ray generation model.\n",
    "- Ensure the image_dir points to the MIMIC-CXR JPG files directory.\n",
    "\n",
    "### Repository Structure\n",
    "- simple_mimic_cxr_dataset.py: The dataset class implementation.\n",
    "- view_specific_xray_generation.py: Task function to generate view-specific X-ray samples.\n",
    "- SimpleMIMICCXRDataset.ipynb: This documentation notebook."
   ]
  },
  {
   "cell_type": "code",
   "execution_count": 2,
   "metadata": {
    "colab": {
     "base_uri": "https://localhost:8080/"
    },
    "executionInfo": {
     "elapsed": 12,
     "status": "ok",
     "timestamp": 1746547834355,
     "user": {
      "displayName": "Anthony Kang",
      "userId": "16870253035874794781"
     },
     "user_tz": -480
    },
    "id": "00HtvbC5vDV7",
    "outputId": "c598b937-9aab-43f6-d0a8-95986b1bbf46"
   },
   "outputs": [
    {
     "name": "stdout",
     "output_type": "stream",
     "text": [
      "/content/drive/MyDrive/Colab Notebooks/CS598\n"
     ]
    }
   ],
   "source": [
    "%cd /content/drive/MyDrive/Colab Notebooks/CS598"
   ]
  },
  {
   "cell_type": "code",
   "execution_count": 3,
   "metadata": {
    "colab": {
     "base_uri": "https://localhost:8080/"
    },
    "executionInfo": {
     "elapsed": 108,
     "status": "ok",
     "timestamp": 1746547835084,
     "user": {
      "displayName": "Anthony Kang",
      "userId": "16870253035874794781"
     },
     "user_tz": -480
    },
    "id": "YiKCf-PhvB6_",
    "outputId": "df10d411-6ee0-4e49-cdaa-0866c04b0426"
   },
   "outputs": [
    {
     "name": "stdout",
     "output_type": "stream",
     "text": [
      "/content/drive/MyDrive/Colab Notebooks/CS598\n"
     ]
    }
   ],
   "source": [
    "!pwd"
   ]
  },
  {
   "cell_type": "markdown",
   "metadata": {},
   "source": [
    "### Data Preparation\n",
    "Before creating the dataset, we preprocess the original MIMIC-CXR metadata to create a filtered subset. The original file, mimiccxr_train_sub_final.csv, does not have a header, so we explicitly define the column names and filter the data to include only specific study_id values. The filtered data is saved as mimiccxr_train_sub_filtered.csv with a header, which is then used by the SimpleMIMICCXRDataset class."
   ]
  },
  {
   "cell_type": "code",
   "execution_count": 4,
   "metadata": {
    "colab": {
     "base_uri": "https://localhost:8080/"
    },
    "executionInfo": {
     "elapsed": 2260,
     "status": "ok",
     "timestamp": 1746547838793,
     "user": {
      "displayName": "Anthony Kang",
      "userId": "16870253035874794781"
     },
     "user_tz": -480
    },
    "id": "Hp2cl0p_45vg",
    "outputId": "94e89ef8-2c76-4f0d-c9ea-4a99aa245ad5"
   },
   "outputs": [
    {
     "name": "stdout",
     "output_type": "stream",
     "text": [
      "Loaded columns: ['dicom_id', 'subject_id', 'study_id', 'view', 'count']\n",
      "First few rows:\n",
      "                                        dicom_id subject_id  study_id     view  \\\n",
      "0  02aa804e-bde0afdd-112c0b34-7bc16630-4e384014   10000032  50414267       PA   \n",
      "1  174413ec-4ec4c1f7-34ea26b7-c5f994f8-79ef1962   10000032  50414267  LATERAL   \n",
      "2  2a2277a9-b0ded155-c0de8eb9-c124d10e-82c5caab   10000032  53189527       PA   \n",
      "3  e084de3b-be89b11e-20fe3f9f-9c8d8dfe-4cfd202c   10000032  53189527  LATERAL   \n",
      "4  68b5c4b1-227d0485-9cc38c3f-7b84ab51-4b472714   10000032  53911762       AP   \n",
      "\n",
      "   count  \n",
      "0      2  \n",
      "1      2  \n",
      "2      2  \n",
      "3      2  \n",
      "4      2  \n",
      "Filtered rows: 6\n",
      "Saved filtered CSV with header to ./metadata/mimiccxr_train_sub_filtered.csv\n"
     ]
    }
   ],
   "source": [
    "import pandas as pd\n",
    "\n",
    "# Load the original CSV with explicit column names\n",
    "df = pd.read_csv(\n",
    "    \"./metadata/mimiccxr_train_sub_final.csv\",\n",
    "    sep=',',\n",
    "    header=None,  # No header in the original file\n",
    "    names=['dicom_id', 'subject_id', 'study_id', 'view', 'count'],\n",
    "    dtype={'study_id': str, 'subject_id': str, 'dicom_id': str}\n",
    ")\n",
    "print(\"Loaded columns:\", df.columns.tolist())\n",
    "print(\"First few rows:\\n\", df.head())\n",
    "\n",
    "# Filter to a subset of study_ids (example)\n",
    "df_filtered = df[df['study_id'].isin(['57049660', '50163781', '57291897'])]\n",
    "print(\"Filtered rows:\", len(df_filtered))\n",
    "\n",
    "# Save with header\n",
    "df_filtered.to_csv(\"./metadata/mimiccxr_train_sub_filtered.csv\", index=False)\n",
    "print(\"Saved filtered CSV with header to ./metadata/mimiccxr_train_sub_filtered.csv\")"
   ]
  },
  {
   "cell_type": "markdown",
   "metadata": {},
   "source": [
    "### Dataset Implementation\n",
    "The SimpleMIMICCXRDataset class is implemented in simple_mimic_cxr_dataset.py. It inherits from PyHealth’s BaseEHRDataset and processes the filtered CSV to create a structured dataset for view-specific X-ray generation. Key features include:\n",
    "\n",
    "- Loads the CSV and handles header presence dynamically.\n",
    "- Structures data into patients and visits with image paths.\n",
    "- Supports tasks like generating samples for PA to LL view conversion.\n",
    "\n",
    "To use this class, you need to have pyhealth installed. The class is not executed here due to the dependency, but the code is available in the repository for reference."
   ]
  },
  {
   "cell_type": "markdown",
   "metadata": {},
   "source": [
    "### Task Implementation\n",
    "The view_specific_xray_generation task function, implemented in view_specific_xray_generation.py, generates samples for the view-specific X-ray generation task. It pairs PA view images as inputs with LL view images as targets when both are available in a visit."
   ]
  },
  {
   "cell_type": "markdown",
   "metadata": {},
   "source": [
    "### Example Usage\n",
    "Below is an example of how to use the SimpleMIMICCXRDataset with the view_specific_xray_generation task to generate samples for training a view-specific X-ray generation model."
   ]
  },
  {
   "cell_type": "code",
   "execution_count": 5,
   "metadata": {
    "colab": {
     "base_uri": "https://localhost:8080/"
    },
    "executionInfo": {
     "elapsed": 5816,
     "status": "ok",
     "timestamp": 1746547846249,
     "user": {
      "displayName": "Anthony Kang",
      "userId": "16870253035874794781"
     },
     "user_tz": -480
    },
    "id": "6dSTalHi2tkr",
    "outputId": "1f9bb29e-91e1-41c5-84f5-7d60f6542040"
   },
   "outputs": [
    {
     "name": "stdout",
     "output_type": "stream",
     "text": [
      "DEBUG: Entering SimpleMIMICCXRDataset.__init__\n",
      "DEBUG: Initialized self.patients as {}\n",
      "DEBUG: Preprocessing CSV data\n",
      "DEBUG: Reading first few rows of CSV to inspect\n",
      "DEBUG: First few rows of CSV (raw):\n",
      "                                        dicom_id  subject_id  study_id view  \\\n",
      "0  98d4dfdf-05f65f15-aad86e48-0b41d552-50c3acc8    12470349  50163781   LL   \n",
      "1  ffe94f9e-da29e399-cf910cd1-ff895172-a1257159    12470349  50163781   PA   \n",
      "2  598f53a5-d4c83f02-36b40d44-66692b4c-b2a576c1    12470349  57291897   PA   \n",
      "3  5e17c48b-c64c9b40-7d5e0d2e-4153058b-a1cec9d6    12470349  57291897   PA   \n",
      "4  7f677cfd-7497e339-8f689bb3-af23a8d5-72c2fc01    12470349  57291897   LL   \n",
      "\n",
      "   count  \n",
      "0      2  \n",
      "1      2  \n",
      "2      3  \n",
      "3      3  \n",
      "4      3  \n",
      "DEBUG: Does CSV have a header? True\n",
      "DEBUG: Loading CSV with default header parsing\n",
      "DEBUG: Loaded DataFrame shape: (6, 5)\n",
      "DEBUG: Loaded DataFrame columns: ['dicom_id', 'subject_id', 'study_id', 'view', 'count']\n",
      "DEBUG: First few rows of loaded DataFrame:\n",
      "                                        dicom_id subject_id  study_id view  \\\n",
      "0  98d4dfdf-05f65f15-aad86e48-0b41d552-50c3acc8   12470349  50163781   LL   \n",
      "1  ffe94f9e-da29e399-cf910cd1-ff895172-a1257159   12470349  50163781   PA   \n",
      "2  598f53a5-d4c83f02-36b40d44-66692b4c-b2a576c1   12470349  57291897   PA   \n",
      "3  5e17c48b-c64c9b40-7d5e0d2e-4153058b-a1cec9d6   12470349  57291897   PA   \n",
      "4  7f677cfd-7497e339-8f689bb3-af23a8d5-72c2fc01   12470349  57291897   LL   \n",
      "\n",
      "   count  \n",
      "0      2  \n",
      "1      2  \n",
      "2      3  \n",
      "3      3  \n",
      "4      3  \n",
      "DEBUG: Adding image paths to DataFrame\n",
      "DEBUG: Parsing basic info\n",
      "DEBUG: Entering parse_basic_info with DataFrame\n",
      "DEBUG: DataFrame shape: (6, 6)\n",
      "DEBUG: DataFrame first few rows:\n",
      "                                       dicom_id subject_id  study_id view  \\\n",
      "0  98d4dfdf-05f65f15-aad86e48-0b41d552-50c3acc8   12470349  50163781   LL   \n",
      "1  ffe94f9e-da29e399-cf910cd1-ff895172-a1257159   12470349  50163781   PA   \n",
      "2  598f53a5-d4c83f02-36b40d44-66692b4c-b2a576c1   12470349  57291897   PA   \n",
      "3  5e17c48b-c64c9b40-7d5e0d2e-4153058b-a1cec9d6   12470349  57291897   PA   \n",
      "4  7f677cfd-7497e339-8f689bb3-af23a8d5-72c2fc01   12470349  57291897   LL   \n",
      "\n",
      "   count                                         image_path  \n",
      "0      2  ./images/files/mimic-cxr-jpg/2.0.0/files/p12/p...  \n",
      "1      2  ./images/files/mimic-cxr-jpg/2.0.0/files/p12/p...  \n",
      "2      3  ./images/files/mimic-cxr-jpg/2.0.0/files/p12/p...  \n",
      "3      3  ./images/files/mimic-cxr-jpg/2.0.0/files/p12/p...  \n",
      "4      3  ./images/files/mimic-cxr-jpg/2.0.0/files/p12/p...  \n",
      "DEBUG: self.patients before structuring: {}\n",
      "DEBUG: Processing subject_id: 12470349, study_id: 50163781\n",
      "DEBUG: Created events for group:\n",
      "                                       dicom_id subject_id  study_id view  \\\n",
      "0  98d4dfdf-05f65f15-aad86e48-0b41d552-50c3acc8   12470349  50163781   LL   \n",
      "1  ffe94f9e-da29e399-cf910cd1-ff895172-a1257159   12470349  50163781   PA   \n",
      "\n",
      "   count                                         image_path  \n",
      "0      2  ./images/files/mimic-cxr-jpg/2.0.0/files/p12/p...  \n",
      "1      2  ./images/files/mimic-cxr-jpg/2.0.0/files/p12/p...  \n",
      "Events: [{'dicom_id': '98d4dfdf-05f65f15-aad86e48-0b41d552-50c3acc8', 'view_position': 'LL', 'image_path': './images/files/mimic-cxr-jpg/2.0.0/files/p12/p12470349/s50163781/98d4dfdf-05f65f15-aad86e48-0b41d552-50c3acc8.jpg', 'study_time': None}, {'dicom_id': 'ffe94f9e-da29e399-cf910cd1-ff895172-a1257159', 'view_position': 'PA', 'image_path': './images/files/mimic-cxr-jpg/2.0.0/files/p12/p12470349/s50163781/ffe94f9e-da29e399-cf910cd1-ff895172-a1257159.jpg', 'study_time': None}]\n",
      "DEBUG: Added patient p12470349 with visit s50163781\n",
      "DEBUG: Processing subject_id: 12470349, study_id: 57291897\n",
      "DEBUG: Created events for group:\n",
      "                                       dicom_id subject_id  study_id view  \\\n",
      "2  598f53a5-d4c83f02-36b40d44-66692b4c-b2a576c1   12470349  57291897   PA   \n",
      "3  5e17c48b-c64c9b40-7d5e0d2e-4153058b-a1cec9d6   12470349  57291897   PA   \n",
      "4  7f677cfd-7497e339-8f689bb3-af23a8d5-72c2fc01   12470349  57291897   LL   \n",
      "\n",
      "   count                                         image_path  \n",
      "2      3  ./images/files/mimic-cxr-jpg/2.0.0/files/p12/p...  \n",
      "3      3  ./images/files/mimic-cxr-jpg/2.0.0/files/p12/p...  \n",
      "4      3  ./images/files/mimic-cxr-jpg/2.0.0/files/p12/p...  \n",
      "Events: [{'dicom_id': '598f53a5-d4c83f02-36b40d44-66692b4c-b2a576c1', 'view_position': 'PA', 'image_path': './images/files/mimic-cxr-jpg/2.0.0/files/p12/p12470349/s57291897/598f53a5-d4c83f02-36b40d44-66692b4c-b2a576c1.jpg', 'study_time': None}, {'dicom_id': '5e17c48b-c64c9b40-7d5e0d2e-4153058b-a1cec9d6', 'view_position': 'PA', 'image_path': './images/files/mimic-cxr-jpg/2.0.0/files/p12/p12470349/s57291897/5e17c48b-c64c9b40-7d5e0d2e-4153058b-a1cec9d6.jpg', 'study_time': None}, {'dicom_id': '7f677cfd-7497e339-8f689bb3-af23a8d5-72c2fc01', 'view_position': 'LL', 'image_path': './images/files/mimic-cxr-jpg/2.0.0/files/p12/p12470349/s57291897/7f677cfd-7497e339-8f689bb3-af23a8d5-72c2fc01.jpg', 'study_time': None}]\n",
      "DEBUG: Added patient p12470349 with visit s57291897\n",
      "DEBUG: Processing subject_id: 12772596, study_id: 57049660\n",
      "DEBUG: Created events for group:\n",
      "                                       dicom_id subject_id  study_id view  \\\n",
      "5  335ec818-b4e5a795-44a5cd36-25a99c99-9783735d   12772596  57049660   AP   \n",
      "\n",
      "   count                                         image_path  \n",
      "5      1  ./images/files/mimic-cxr-jpg/2.0.0/files/p12/p...  \n",
      "Events: [{'dicom_id': '335ec818-b4e5a795-44a5cd36-25a99c99-9783735d', 'view_position': 'AP', 'image_path': './images/files/mimic-cxr-jpg/2.0.0/files/p12/p12772596/s57049660/335ec818-b4e5a795-44a5cd36-25a99c99-9783735d.jpg', 'study_time': None}]\n",
      "DEBUG: Added patient p12772596 with visit s57049660\n",
      "DEBUG: self.patients after structuring: {'p12470349': {'patient_id': 'p12470349', 'visits': [{'visit_id': 's50163781', 'events': [{'dicom_id': '98d4dfdf-05f65f15-aad86e48-0b41d552-50c3acc8', 'view_position': 'LL', 'image_path': './images/files/mimic-cxr-jpg/2.0.0/files/p12/p12470349/s50163781/98d4dfdf-05f65f15-aad86e48-0b41d552-50c3acc8.jpg', 'study_time': None}, {'dicom_id': 'ffe94f9e-da29e399-cf910cd1-ff895172-a1257159', 'view_position': 'PA', 'image_path': './images/files/mimic-cxr-jpg/2.0.0/files/p12/p12470349/s50163781/ffe94f9e-da29e399-cf910cd1-ff895172-a1257159.jpg', 'study_time': None}]}, {'visit_id': 's57291897', 'events': [{'dicom_id': '598f53a5-d4c83f02-36b40d44-66692b4c-b2a576c1', 'view_position': 'PA', 'image_path': './images/files/mimic-cxr-jpg/2.0.0/files/p12/p12470349/s57291897/598f53a5-d4c83f02-36b40d44-66692b4c-b2a576c1.jpg', 'study_time': None}, {'dicom_id': '5e17c48b-c64c9b40-7d5e0d2e-4153058b-a1cec9d6', 'view_position': 'PA', 'image_path': './images/files/mimic-cxr-jpg/2.0.0/files/p12/p12470349/s57291897/5e17c48b-c64c9b40-7d5e0d2e-4153058b-a1cec9d6.jpg', 'study_time': None}, {'dicom_id': '7f677cfd-7497e339-8f689bb3-af23a8d5-72c2fc01', 'view_position': 'LL', 'image_path': './images/files/mimic-cxr-jpg/2.0.0/files/p12/p12470349/s57291897/7f677cfd-7497e339-8f689bb3-af23a8d5-72c2fc01.jpg', 'study_time': None}]}]}, 'p12772596': {'patient_id': 'p12772596', 'visits': [{'visit_id': 's57049660', 'events': [{'dicom_id': '335ec818-b4e5a795-44a5cd36-25a99c99-9783735d', 'view_position': 'AP', 'image_path': './images/files/mimic-cxr-jpg/2.0.0/files/p12/p12772596/s57049660/335ec818-b4e5a795-44a5cd36-25a99c99-9783735d.jpg', 'study_time': None}]}]}}\n",
      "DEBUG: Preprocessed patients before super().__init__: {'p12470349': {'patient_id': 'p12470349', 'visits': [{'visit_id': 's50163781', 'events': [{'dicom_id': '98d4dfdf-05f65f15-aad86e48-0b41d552-50c3acc8', 'view_position': 'LL', 'image_path': './images/files/mimic-cxr-jpg/2.0.0/files/p12/p12470349/s50163781/98d4dfdf-05f65f15-aad86e48-0b41d552-50c3acc8.jpg', 'study_time': None}, {'dicom_id': 'ffe94f9e-da29e399-cf910cd1-ff895172-a1257159', 'view_position': 'PA', 'image_path': './images/files/mimic-cxr-jpg/2.0.0/files/p12/p12470349/s50163781/ffe94f9e-da29e399-cf910cd1-ff895172-a1257159.jpg', 'study_time': None}]}, {'visit_id': 's57291897', 'events': [{'dicom_id': '598f53a5-d4c83f02-36b40d44-66692b4c-b2a576c1', 'view_position': 'PA', 'image_path': './images/files/mimic-cxr-jpg/2.0.0/files/p12/p12470349/s57291897/598f53a5-d4c83f02-36b40d44-66692b4c-b2a576c1.jpg', 'study_time': None}, {'dicom_id': '5e17c48b-c64c9b40-7d5e0d2e-4153058b-a1cec9d6', 'view_position': 'PA', 'image_path': './images/files/mimic-cxr-jpg/2.0.0/files/p12/p12470349/s57291897/5e17c48b-c64c9b40-7d5e0d2e-4153058b-a1cec9d6.jpg', 'study_time': None}, {'dicom_id': '7f677cfd-7497e339-8f689bb3-af23a8d5-72c2fc01', 'view_position': 'LL', 'image_path': './images/files/mimic-cxr-jpg/2.0.0/files/p12/p12470349/s57291897/7f677cfd-7497e339-8f689bb3-af23a8d5-72c2fc01.jpg', 'study_time': None}]}]}, 'p12772596': {'patient_id': 'p12772596', 'visits': [{'visit_id': 's57049660', 'events': [{'dicom_id': '335ec818-b4e5a795-44a5cd36-25a99c99-9783735d', 'view_position': 'AP', 'image_path': './images/files/mimic-cxr-jpg/2.0.0/files/p12/p12772596/s57049660/335ec818-b4e5a795-44a5cd36-25a99c99-9783735d.jpg', 'study_time': None}]}]}}\n",
      "DEBUG: After super().__init__, self.patients is {'p12470349': {'patient_id': 'p12470349', 'visits': [{'visit_id': 's50163781', 'events': [{'dicom_id': '98d4dfdf-05f65f15-aad86e48-0b41d552-50c3acc8', 'view_position': 'LL', 'image_path': './images/files/mimic-cxr-jpg/2.0.0/files/p12/p12470349/s50163781/98d4dfdf-05f65f15-aad86e48-0b41d552-50c3acc8.jpg', 'study_time': None}, {'dicom_id': 'ffe94f9e-da29e399-cf910cd1-ff895172-a1257159', 'view_position': 'PA', 'image_path': './images/files/mimic-cxr-jpg/2.0.0/files/p12/p12470349/s50163781/ffe94f9e-da29e399-cf910cd1-ff895172-a1257159.jpg', 'study_time': None}]}, {'visit_id': 's57291897', 'events': [{'dicom_id': '598f53a5-d4c83f02-36b40d44-66692b4c-b2a576c1', 'view_position': 'PA', 'image_path': './images/files/mimic-cxr-jpg/2.0.0/files/p12/p12470349/s57291897/598f53a5-d4c83f02-36b40d44-66692b4c-b2a576c1.jpg', 'study_time': None}, {'dicom_id': '5e17c48b-c64c9b40-7d5e0d2e-4153058b-a1cec9d6', 'view_position': 'PA', 'image_path': './images/files/mimic-cxr-jpg/2.0.0/files/p12/p12470349/s57291897/5e17c48b-c64c9b40-7d5e0d2e-4153058b-a1cec9d6.jpg', 'study_time': None}, {'dicom_id': '7f677cfd-7497e339-8f689bb3-af23a8d5-72c2fc01', 'view_position': 'LL', 'image_path': './images/files/mimic-cxr-jpg/2.0.0/files/p12/p12470349/s57291897/7f677cfd-7497e339-8f689bb3-af23a8d5-72c2fc01.jpg', 'study_time': None}]}]}, 'p12772596': {'patient_id': 'p12772596', 'visits': [{'visit_id': 's57049660', 'events': [{'dicom_id': '335ec818-b4e5a795-44a5cd36-25a99c99-9783735d', 'view_position': 'AP', 'image_path': './images/files/mimic-cxr-jpg/2.0.0/files/p12/p12772596/s57049660/335ec818-b4e5a795-44a5cd36-25a99c99-9783735d.jpg', 'study_time': None}]}]}}\n",
      "DEBUG: Entering set_task\n",
      "DEBUG: Entering view_specific_xray_generation\n",
      "DEBUG: Input patients: {'p12470349': {'patient_id': 'p12470349', 'visits': [{'visit_id': 's50163781', 'events': [{'dicom_id': '98d4dfdf-05f65f15-aad86e48-0b41d552-50c3acc8', 'view_position': 'LL', 'image_path': './images/files/mimic-cxr-jpg/2.0.0/files/p12/p12470349/s50163781/98d4dfdf-05f65f15-aad86e48-0b41d552-50c3acc8.jpg', 'study_time': None}, {'dicom_id': 'ffe94f9e-da29e399-cf910cd1-ff895172-a1257159', 'view_position': 'PA', 'image_path': './images/files/mimic-cxr-jpg/2.0.0/files/p12/p12470349/s50163781/ffe94f9e-da29e399-cf910cd1-ff895172-a1257159.jpg', 'study_time': None}]}, {'visit_id': 's57291897', 'events': [{'dicom_id': '598f53a5-d4c83f02-36b40d44-66692b4c-b2a576c1', 'view_position': 'PA', 'image_path': './images/files/mimic-cxr-jpg/2.0.0/files/p12/p12470349/s57291897/598f53a5-d4c83f02-36b40d44-66692b4c-b2a576c1.jpg', 'study_time': None}, {'dicom_id': '5e17c48b-c64c9b40-7d5e0d2e-4153058b-a1cec9d6', 'view_position': 'PA', 'image_path': './images/files/mimic-cxr-jpg/2.0.0/files/p12/p12470349/s57291897/5e17c48b-c64c9b40-7d5e0d2e-4153058b-a1cec9d6.jpg', 'study_time': None}, {'dicom_id': '7f677cfd-7497e339-8f689bb3-af23a8d5-72c2fc01', 'view_position': 'LL', 'image_path': './images/files/mimic-cxr-jpg/2.0.0/files/p12/p12470349/s57291897/7f677cfd-7497e339-8f689bb3-af23a8d5-72c2fc01.jpg', 'study_time': None}]}]}, 'p12772596': {'patient_id': 'p12772596', 'visits': [{'visit_id': 's57049660', 'events': [{'dicom_id': '335ec818-b4e5a795-44a5cd36-25a99c99-9783735d', 'view_position': 'AP', 'image_path': './images/files/mimic-cxr-jpg/2.0.0/files/p12/p12772596/s57049660/335ec818-b4e5a795-44a5cd36-25a99c99-9783735d.jpg', 'study_time': None}]}]}}\n",
      "DEBUG: Processing patient p12470349\n",
      "DEBUG: Processing visit s50163781\n",
      "DEBUG: Processing visit s57291897\n",
      "DEBUG: Processing patient p12772596\n",
      "DEBUG: Processing visit s57049660\n",
      "DEBUG: Generated samples: [{'patient_id': 'p12470349', 'visit_id': 's50163781', 'input_front_view': './images/files/mimic-cxr-jpg/2.0.0/files/p12/p12470349/s50163781/ffe94f9e-da29e399-cf910cd1-ff895172-a1257159.jpg', 'input_view_position': 'PA', 'target_view': 'LL', 'target_path': './images/files/mimic-cxr-jpg/2.0.0/files/p12/p12470349/s50163781/98d4dfdf-05f65f15-aad86e48-0b41d552-50c3acc8.jpg'}, {'patient_id': 'p12470349', 'visit_id': 's57291897', 'input_front_view': './images/files/mimic-cxr-jpg/2.0.0/files/p12/p12470349/s57291897/5e17c48b-c64c9b40-7d5e0d2e-4153058b-a1cec9d6.jpg', 'input_view_position': 'PA', 'target_view': 'LL', 'target_path': './images/files/mimic-cxr-jpg/2.0.0/files/p12/p12470349/s57291897/7f677cfd-7497e339-8f689bb3-af23a8d5-72c2fc01.jpg'}]\n",
      "DEBUG: Samples generated by task_fn: [{'patient_id': 'p12470349', 'visit_id': 's50163781', 'input_front_view': './images/files/mimic-cxr-jpg/2.0.0/files/p12/p12470349/s50163781/ffe94f9e-da29e399-cf910cd1-ff895172-a1257159.jpg', 'input_view_position': 'PA', 'target_view': 'LL', 'target_path': './images/files/mimic-cxr-jpg/2.0.0/files/p12/p12470349/s50163781/98d4dfdf-05f65f15-aad86e48-0b41d552-50c3acc8.jpg'}, {'patient_id': 'p12470349', 'visit_id': 's57291897', 'input_front_view': './images/files/mimic-cxr-jpg/2.0.0/files/p12/p12470349/s57291897/5e17c48b-c64c9b40-7d5e0d2e-4153058b-a1cec9d6.jpg', 'input_view_position': 'PA', 'target_view': 'LL', 'target_path': './images/files/mimic-cxr-jpg/2.0.0/files/p12/p12470349/s57291897/7f677cfd-7497e339-8f689bb3-af23a8d5-72c2fc01.jpg'}]\n"
     ]
    },
    {
     "name": "stderr",
     "output_type": "stream",
     "text": [
      "Generating samples for view_specific_xray_generation: 100%|██████████| 2/2 [00:00<00:00, 1206.65it/s]"
     ]
    },
    {
     "name": "stdout",
     "output_type": "stream",
     "text": [
      "DEBUG: Entering view_specific_xray_generation\n",
      "DEBUG: Input patients: {'patient_id': 'p12470349', 'visits': [{'visit_id': 's50163781', 'events': [{'dicom_id': '98d4dfdf-05f65f15-aad86e48-0b41d552-50c3acc8', 'view_position': 'LL', 'image_path': './images/files/mimic-cxr-jpg/2.0.0/files/p12/p12470349/s50163781/98d4dfdf-05f65f15-aad86e48-0b41d552-50c3acc8.jpg', 'study_time': None}, {'dicom_id': 'ffe94f9e-da29e399-cf910cd1-ff895172-a1257159', 'view_position': 'PA', 'image_path': './images/files/mimic-cxr-jpg/2.0.0/files/p12/p12470349/s50163781/ffe94f9e-da29e399-cf910cd1-ff895172-a1257159.jpg', 'study_time': None}]}, {'visit_id': 's57291897', 'events': [{'dicom_id': '598f53a5-d4c83f02-36b40d44-66692b4c-b2a576c1', 'view_position': 'PA', 'image_path': './images/files/mimic-cxr-jpg/2.0.0/files/p12/p12470349/s57291897/598f53a5-d4c83f02-36b40d44-66692b4c-b2a576c1.jpg', 'study_time': None}, {'dicom_id': '5e17c48b-c64c9b40-7d5e0d2e-4153058b-a1cec9d6', 'view_position': 'PA', 'image_path': './images/files/mimic-cxr-jpg/2.0.0/files/p12/p12470349/s57291897/5e17c48b-c64c9b40-7d5e0d2e-4153058b-a1cec9d6.jpg', 'study_time': None}, {'dicom_id': '7f677cfd-7497e339-8f689bb3-af23a8d5-72c2fc01', 'view_position': 'LL', 'image_path': './images/files/mimic-cxr-jpg/2.0.0/files/p12/p12470349/s57291897/7f677cfd-7497e339-8f689bb3-af23a8d5-72c2fc01.jpg', 'study_time': None}]}]}\n",
      "DEBUG: Processing patient p12470349\n",
      "DEBUG: Processing visit s50163781\n",
      "DEBUG: Processing visit s57291897\n",
      "DEBUG: Generated samples: [{'patient_id': 'p12470349', 'visit_id': 's50163781', 'input_front_view': './images/files/mimic-cxr-jpg/2.0.0/files/p12/p12470349/s50163781/ffe94f9e-da29e399-cf910cd1-ff895172-a1257159.jpg', 'input_view_position': 'PA', 'target_view': 'LL', 'target_path': './images/files/mimic-cxr-jpg/2.0.0/files/p12/p12470349/s50163781/98d4dfdf-05f65f15-aad86e48-0b41d552-50c3acc8.jpg'}, {'patient_id': 'p12470349', 'visit_id': 's57291897', 'input_front_view': './images/files/mimic-cxr-jpg/2.0.0/files/p12/p12470349/s57291897/5e17c48b-c64c9b40-7d5e0d2e-4153058b-a1cec9d6.jpg', 'input_view_position': 'PA', 'target_view': 'LL', 'target_path': './images/files/mimic-cxr-jpg/2.0.0/files/p12/p12470349/s57291897/7f677cfd-7497e339-8f689bb3-af23a8d5-72c2fc01.jpg'}]\n",
      "DEBUG: Entering view_specific_xray_generation\n",
      "DEBUG: Input patients: {'patient_id': 'p12772596', 'visits': [{'visit_id': 's57049660', 'events': [{'dicom_id': '335ec818-b4e5a795-44a5cd36-25a99c99-9783735d', 'view_position': 'AP', 'image_path': './images/files/mimic-cxr-jpg/2.0.0/files/p12/p12772596/s57049660/335ec818-b4e5a795-44a5cd36-25a99c99-9783735d.jpg', 'study_time': None}]}]}\n",
      "DEBUG: Processing patient p12772596\n",
      "DEBUG: Processing visit s57049660\n",
      "DEBUG: Generated samples: []\n",
      "Sample 0:\n",
      "Input: ./images/files/mimic-cxr-jpg/2.0.0/files/p12/p12470349/s50163781/ffe94f9e-da29e399-cf910cd1-ff895172-a1257159.jpg PA\n",
      "Target: LL ./images/files/mimic-cxr-jpg/2.0.0/files/p12/p12470349/s50163781/98d4dfdf-05f65f15-aad86e48-0b41d552-50c3acc8.jpg\n",
      "\n",
      "Sample 1:\n",
      "Input: ./images/files/mimic-cxr-jpg/2.0.0/files/p12/p12470349/s57291897/5e17c48b-c64c9b40-7d5e0d2e-4153058b-a1cec9d6.jpg PA\n",
      "Target: LL ./images/files/mimic-cxr-jpg/2.0.0/files/p12/p12470349/s57291897/7f677cfd-7497e339-8f689bb3-af23a8d5-72c2fc01.jpg\n",
      "\n"
     ]
    },
    {
     "name": "stderr",
     "output_type": "stream",
     "text": [
      "\n"
     ]
    }
   ],
   "source": [
    "from simple_mimic_cxr_dataset import SimpleMIMICCXRDataset\n",
    "from view_specific_xray_generation import view_specific_xray_generation\n",
    "\n",
    "# Create the dataset with correct paths\n",
    "dataset = SimpleMIMICCXRDataset(\n",
    "    root=\"./CS598\",\n",
    "    metadata_path=\"./metadata/mimiccxr_train_sub_filtered.csv\",\n",
    "    image_dir=\"./images\",\n",
    "    dev=False,\n",
    "    refresh_cache=False,\n",
    ")\n",
    "\n",
    "# Set the task\n",
    "samples = dataset.set_task(view_specific_xray_generation)\n",
    "\n",
    "# Print a few samples\n",
    "for i, sample in enumerate(samples[:3]):\n",
    "    print(f\"Sample {i}:\")\n",
    "    print(\"Input:\", sample[\"input_front_view\"], sample[\"input_view_position\"])\n",
    "    print(\"Target:\", sample[\"target_view\"], sample[\"target_path\"])\n",
    "    print()"
   ]
  },
  {
   "cell_type": "markdown",
   "metadata": {},
   "source": [
    "## Additional Notes and Conclusion\n",
    "\n",
    "### Integration with UniXGen\n",
    "- The generated samples are formatted with input_front_view, input_view_position, target_view, and target_path, suitable for UniXGen's view-specific X-ray generation task.\n",
    "- To use with UniXGen, pass the samples list to the model's data loader or pipeline, ensuring the image paths are accessible.\n",
    "\n",
    "### Scaling the Dataset\n",
    "- For a larger subset of MIMIC-CXR, ensure the metadata_path CSV maintains the same format (header row with dicom_id, subject_id, etc.).\n",
    "- If the CSV format changes (e.g., no header), the has_header logic will adapt, but validate the output.\n",
    "\n",
    "### Extending View Conversions\n",
    "- The current task generates samples for PA to LL conversion. To support other conversions (e.g., AP to LL), update the view_specific_xray_generation function to include additional view pairs and logic.\n",
    "\n",
    "### Conclusion\n",
    "- This implementation is complete and ready for publication or use with UniXGen. All issues (e.g., psubject_id, CSV loading, empty dataset) have been resolved.\n",
    "- The preprocessing step ensures reproducibility by documenting how the filtered dataset was created from the original MIMIC-CXR metadata."
   ]
  },
  {
   "cell_type": "code",
   "execution_count": null,
   "metadata": {
    "id": "7cqi7NXb6bv6"
   },
   "outputs": [],
   "source": []
  }
 ],
 "metadata": {
  "colab": {
   "authorship_tag": "ABX9TyNPtmD+xhSzv38SpAN8OV0D",
   "mount_file_id": "1-cpcEhujiq2uDBKPddeg2zj-u7SlmUCe",
   "provenance": []
  },
  "kernelspec": {
   "display_name": "Python 3",
   "name": "python3"
  },
  "language_info": {
   "codemirror_mode": {
    "name": "ipython",
    "version": 3
   },
   "file_extension": ".py",
   "mimetype": "text/x-python",
   "name": "python",
   "nbconvert_exporter": "python",
   "pygments_lexer": "ipython3",
   "version": "3.11.1"
  }
 },
 "nbformat": 4,
 "nbformat_minor": 0
}
